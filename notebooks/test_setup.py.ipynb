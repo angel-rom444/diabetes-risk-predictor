{
 "cells": [
  {
   "cell_type": "code",
   "execution_count": 1,
   "id": "b3a5aa12-8d80-447f-938c-369099f43bdd",
   "metadata": {},
   "outputs": [
    {
     "name": "stdout",
     "output_type": "stream",
     "text": [
      "✅ Python version: 3.13.9 | packaged by Anaconda, Inc. | (main, Oct 21 2025, 19:09:58) [MSC v.1929 64 bit (AMD64)]\n",
      "✅ Pandas version: 2.3.1\n",
      "✅ Scikit-learn version: 1.7.1\n",
      "✅ Matplotlib version: 3.10.5\n",
      "✅ Seaborn version: 0.13.2\n",
      "\n",
      "🎉 ¡Setup completado exitosamente! Listo para empezar con los datos.\n"
     ]
    }
   ],
   "source": [
    "import sys\n",
    "print(f\"✅ Python version: {sys.version}\")\n",
    "\n",
    "import pandas as pd\n",
    "print(f\"✅ Pandas version: {pd.__version__}\")\n",
    "\n",
    "import sklearn\n",
    "print(f\"✅ Scikit-learn version: {sklearn.__version__}\")\n",
    "\n",
    "import matplotlib\n",
    "print(f\"✅ Matplotlib version: {matplotlib.__version__}\")\n",
    "\n",
    "import seaborn\n",
    "print(f\"✅ Seaborn version: {seaborn.__version__}\")\n",
    "\n",
    "print(\"\\n🎉 ¡Setup completado exitosamente! Listo para empezar con los datos.\")"
   ]
  },
  {
   "cell_type": "code",
   "execution_count": null,
   "id": "02a5fed2-ea36-4f8d-89ca-3c84a9c4c12d",
   "metadata": {},
   "outputs": [],
   "source": []
  }
 ],
 "metadata": {
  "kernelspec": {
   "display_name": "Python 3 (ipykernel)",
   "language": "python",
   "name": "python3"
  },
  "language_info": {
   "codemirror_mode": {
    "name": "ipython",
    "version": 3
   },
   "file_extension": ".py",
   "mimetype": "text/x-python",
   "name": "python",
   "nbconvert_exporter": "python",
   "pygments_lexer": "ipython3",
   "version": "3.13.9"
  }
 },
 "nbformat": 4,
 "nbformat_minor": 5
}
